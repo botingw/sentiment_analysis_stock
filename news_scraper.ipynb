{
 "cells": [
  {
   "cell_type": "markdown",
   "metadata": {},
   "source": [
    "# method 1\n",
    "from github: jalajthanaki/stock_price_prediction\n",
    "<br><br>\n",
    "06282020: error, can not find newsapi.articles\n"
   ]
  },
  {
   "cell_type": "code",
   "execution_count": 4,
   "metadata": {},
   "outputs": [
    {
     "ename": "ModuleNotFoundError",
     "evalue": "No module named 'newsapi.articles'",
     "output_type": "error",
     "traceback": [
      "\u001b[0;31m---------------------------------------------------------------------------\u001b[0m",
      "\u001b[0;31mModuleNotFoundError\u001b[0m                       Traceback (most recent call last)",
      "\u001b[0;32m<ipython-input-4-8997a3060c76>\u001b[0m in \u001b[0;36m<module>\u001b[0;34m\u001b[0m\n\u001b[1;32m      4\u001b[0m \u001b[0mhttps\u001b[0m\u001b[0;34m:\u001b[0m\u001b[0;34m//\u001b[0m\u001b[0mdeveloper\u001b[0m\u001b[0;34m.\u001b[0m\u001b[0mnytimes\u001b[0m\u001b[0;34m.\u001b[0m\u001b[0mcom\u001b[0m\u001b[0;34m/\u001b[0m\u001b[0marticle_search_v2\u001b[0m\u001b[0;34m.\u001b[0m\u001b[0mjson\u001b[0m\u001b[0;34m\u001b[0m\u001b[0;34m\u001b[0m\u001b[0m\n\u001b[1;32m      5\u001b[0m \"\"\"\n\u001b[0;32m----> 6\u001b[0;31m \u001b[0;32mfrom\u001b[0m \u001b[0mnewsapi\u001b[0m\u001b[0;34m.\u001b[0m\u001b[0marticles\u001b[0m \u001b[0;32mimport\u001b[0m \u001b[0mArticles\u001b[0m\u001b[0;34m\u001b[0m\u001b[0;34m\u001b[0m\u001b[0m\n\u001b[0m\u001b[1;32m      7\u001b[0m \u001b[0;32mimport\u001b[0m \u001b[0msys\u001b[0m\u001b[0;34m,\u001b[0m\u001b[0mjson\u001b[0m\u001b[0;34m\u001b[0m\u001b[0;34m\u001b[0m\u001b[0m\n\u001b[1;32m      8\u001b[0m \u001b[0;32mimport\u001b[0m \u001b[0mrequests\u001b[0m\u001b[0;34m\u001b[0m\u001b[0;34m\u001b[0m\u001b[0m\n",
      "\u001b[0;31mModuleNotFoundError\u001b[0m: No module named 'newsapi.articles'"
     ]
    }
   ],
   "source": [
    "\"\"\"\n",
    "About:\n",
    "Python wrapper for the New York Times Archive API\n",
    "https://developer.nytimes.com/article_search_v2.json\n",
    "\"\"\"\n",
    "from newsapi.articles import Articles\n",
    "import sys,json\n",
    "import requests\n",
    "\n",
    "key = '522497f7b4b940b7946eeed6909ed817'\n",
    "params = {}\n",
    "api = Articles(API_KEY=key)\n",
    "reload(sys)\n",
    "sys.setdefaultencoding('utf8')\n",
    "\n",
    "\n",
    "class APIKeyException(Exception):\n",
    "    def __init__(self, message): self.message = message\n",
    "\n",
    "\n",
    "class InvalidQueryException(Exception):\n",
    "    def __init__(self, message): self.message = message\n",
    "\n",
    "\n",
    "class ArchiveAPI(object):\n",
    "    def __init__(self, key=None):\n",
    "        self.key = key\n",
    "        self.root = 'http://api.nytimes.com/svc/archive/v1/{}/{}.json?api-key={}'\n",
    "        if not self.key:\n",
    "            nyt_dev_page = 'http://developer.nytimes.com/docs/reference/keys'\n",
    "            exception_str = 'Warning: API Key required. Please visit {}'\n",
    "            raise APIKeyException(exception_str.format(nyt_dev_page))\n",
    "\n",
    "    def query(self, year=None, month=None, key=None, ):\n",
    "        if not key: key = self.key\n",
    "        if (year < 1882) or not (0 < month < 13):\n",
    "            # currently the Archive API only supports year >= 1851\n",
    "            exception_str = 'Invalid query: See http://developer.nytimes.com/archive_api.json'\n",
    "            raise InvalidQueryException(exception_str)\n",
    "        url = self.root.format(year, month, key)\n",
    "        #print url ##boting: remove error message\n",
    "        r = requests.get(url)\n",
    "        return r.json()\n",
    "\n",
    "\n"
   ]
  },
  {
   "cell_type": "code",
   "execution_count": 5,
   "metadata": {},
   "outputs": [],
   "source": [
    "import newsapi "
   ]
  },
  {
   "cell_type": "code",
   "execution_count": 8,
   "metadata": {},
   "outputs": [
    {
     "ename": "ModuleNotFoundError",
     "evalue": "No module named 'newsapi.articles'",
     "output_type": "error",
     "traceback": [
      "\u001b[0;31m---------------------------------------------------------------------------\u001b[0m",
      "\u001b[0;31mModuleNotFoundError\u001b[0m                       Traceback (most recent call last)",
      "\u001b[0;32m<ipython-input-8-4985e7650597>\u001b[0m in \u001b[0;36m<module>\u001b[0;34m\u001b[0m\n\u001b[0;32m----> 1\u001b[0;31m \u001b[0;32mfrom\u001b[0m \u001b[0mnewsapi\u001b[0m\u001b[0;34m.\u001b[0m\u001b[0marticles\u001b[0m \u001b[0;32mimport\u001b[0m \u001b[0mArticles\u001b[0m\u001b[0;34m\u001b[0m\u001b[0;34m\u001b[0m\u001b[0m\n\u001b[0m",
      "\u001b[0;31mModuleNotFoundError\u001b[0m: No module named 'newsapi.articles'"
     ]
    }
   ],
   "source": [
    "from newsapi.articles import Articles"
   ]
  },
  {
   "cell_type": "code",
   "execution_count": 7,
   "metadata": {},
   "outputs": [
    {
     "data": {
      "text/plain": [
       "['NewsApiClient',\n",
       " '__builtins__',\n",
       " '__cached__',\n",
       " '__doc__',\n",
       " '__file__',\n",
       " '__loader__',\n",
       " '__name__',\n",
       " '__package__',\n",
       " '__path__',\n",
       " '__spec__',\n",
       " 'const',\n",
       " 'newsapi_auth',\n",
       " 'newsapi_client',\n",
       " 'newsapi_exception',\n",
       " 'utils']"
      ]
     },
     "execution_count": 7,
     "metadata": {},
     "output_type": "execute_result"
    }
   ],
   "source": [
    "dir(newsapi)"
   ]
  },
  {
   "cell_type": "code",
   "execution_count": null,
   "metadata": {},
   "outputs": [],
   "source": [
    "years = [2016, 2015, 2014, 2013, 2012, 2011, 2010, 2009, 2008, 2007]\n",
    "months = [1, 2, 3, 4, 5, 6, 7, 8, 9, 10, 11, 12]\n",
    "api = ArchiveAPI('522497f7b4b940b7946eeed6909ed817')\n",
    "for year in years:\n",
    "    for month in months:\n",
    "        mydict = api.query(year, month)\n",
    "        file_str = './data/nytimes' + str(year) + '-' + '{:02}'.format(\n",
    "            month) + '.json'\n",
    "        with open(file_str, 'w') as fout:\n",
    "            json.dump(mydict, fout)\n",
    "        fout.close()"
   ]
  },
  {
   "cell_type": "markdown",
   "metadata": {},
   "source": [
    "# method 2\n",
    "from github: jasonyip184/StockSentimentTrading\n",
    " \n"
   ]
  },
  {
   "cell_type": "code",
   "execution_count": 14,
   "metadata": {},
   "outputs": [
    {
     "name": "stderr",
     "output_type": "stream",
     "text": [
      "[nltk_data] Downloading package vader_lexicon to /Users/wangbo-\n",
      "[nltk_data]     ting/nltk_data...\n"
     ]
    }
   ],
   "source": [
    "import nltk\n",
    "nltk.download('vader_lexicon')\n",
    "\n",
    "import warnings\n",
    "warnings.filterwarnings('ignore')\n",
    "from nltk.sentiment.vader import SentimentIntensityAnalyzer\n",
    "# nltk.download('vader_lexicon')\n",
    "\n",
    "sia = SentimentIntensityAnalyzer()"
   ]
  },
  {
   "cell_type": "code",
   "execution_count": 19,
   "metadata": {},
   "outputs": [
    {
     "name": "stdout",
     "output_type": "stream",
     "text": [
      "29 Jun 2020 https://www.businesstimes.com.sg/technology/facebook-ad-boycott-campaign-to-go-global-organisers-say\n",
      "27 Jun 2020 https://www.businesstimes.com.sg/technology/unilever-to-stop-advertising-on-facebook-twitter-and-instagram-in-us\n",
      "27 Jun 2020 https://www.businesstimes.com.sg/technology/facebook-ramps-up-efforts-to-curb-hateful-content-in-ads\n",
      "26 Jun 2020 https://www.businesstimes.com.sg/technology/verizon-suspends-advertising-on-facebook-joins-growing-boycott\n",
      "24 Jun 2020 https://www.businesstimes.com.sg/consumer/ben-jerrys-joins-facebook-ad-boycott-over-hate-speech\n",
      "23 Jun 2020 https://www.businesstimes.com.sg/government-economy/biden-campaign-asks-twitter-facebook-to-remove-trump-posts-bashing-mail-in-voting\n",
      "23 Jun 2020 https://www.businesstimes.com.sg/technology/microsoft-ends-game-streaming-teams-up-with-facebook\n",
      "19 Jun 2020 https://www.businesstimes.com.sg/government-economy/facebook-pulls-trump-ads-over-nazi-symbol\n",
      "18 Jun 2020 https://www.businesstimes.com.sg/technology/facebooks-deal-with-jio-under-india-antitrust-review\n",
      "18 Jun 2020 https://www.businesstimes.com.sg/technology/facebook-lets-users-block-political-ads-aiming-to-quell-outcry\n",
      "15 Jun 2020 https://www.businesstimes.com.sg/technology/facebook-rejects-call-to-share-revenue-with-australian-media\n",
      "12 Jun 2020 https://www.businesstimes.com.sg/technology/facebooks-giphy-deal-draws-uk-competition-watchdogs-attention\n",
      "10 Jun 2020 https://www.businesstimes.com.sg/technology/us-court-asked-to-force-facebook-to-release-myanmar-officials-data-for-genocide-case\n",
      "08 Jun 2020 https://www.businesstimes.com.sg/technology/philippines-probes-proliferation-of-fake-facebook-accounts-after-anti-terror-law-protest\n",
      "06 Jun 2020 https://www.businesstimes.com.sg/technology/twitter-facebook-disable-trump-video-tribute-to-floyd-over-copyright-complaint\n",
      "06 Jun 2020 https://www.businesstimes.com.sg/technology/zuckerberg-promises-review-of-facebook-content-policies-after-backlash\n",
      "05 Jun 2020 https://www.businesstimes.com.sg/technology/facebook-to-apply-state-media-labels-on-russian-chinese-outlets\n",
      "04 Jun 2020 https://www.businesstimes.com.sg/companies-markets/gojek-may-unlock-se-asian-fintech-trove-for-facebook-paypal\n",
      "03 Jun 2020 https://www.businesstimes.com.sg/garage/facebook-invests-in-gojek-in-whatsapp-push\n",
      "03 Jun 2020 https://www.businesstimes.com.sg/government-economy/activists-rip-facebooks-zuckerberg-over-trump-comments\n",
      "02 Jun 2020 https://www.businesstimes.com.sg/technology/facebook-staffers-walk-out-saying-trumps-posts-should-be-reined-in\n",
      "30 May 2020 https://www.businesstimes.com.sg/technology/facebook-ceo-says-users-should-see-trump-posts-for-themselves\n",
      "27 May 2020 https://www.businesstimes.com.sg/banking-finance/facebook-wallet-for-libra-digital-coins-renamed-novi\n",
      "23 May 2020 https://www.businesstimes.com.sg/technology/facebook-starts-planning-for-permanent-remote-workers\n",
      "21 May 2020 https://www.businesstimes.com.sg/technology/facebook-to-help-showcase-online-shops\n",
      "20 May 2020 https://www.businesstimes.com.sg/technology/facebook-to-limit-offices-to-25-capacity-require-masks-at-work\n",
      "20 May 2020 https://www.businesstimes.com.sg/technology/facebook-to-help-struggling-retailers-create-online-stores\n",
      "20 May 2020 https://www.businesstimes.com.sg/technology/canada-fines-facebook-over-misleading-privacy-claims\n",
      "19 May 2020 https://www.businesstimes.com.sg/technology/facebook-chief-wants-eu-not-china-to-lead-on-tech-rules\n",
      "16 May 2020 https://www.businesstimes.com.sg/technology/facebook-buys-gif-website-giphy-to-integrate-with-instagram\n",
      "15 May 2020 https://www.businesstimes.com.sg/banking-finance/temasek-joins-facebook-backed-libra-project\n",
      "13 May 2020 https://www.businesstimes.com.sg/technology/facebook-to-pay-us52m-settlement-for-trauma-to-content-reviewers\n",
      "13 May 2020 https://www.businesstimes.com.sg/technology/facebook-trains-ai-on-hateful-memes\n",
      "08 May 2020 https://www.businesstimes.com.sg/technology/facebook-to-allow-employees-to-work-remotely-until-year-end\n",
      "08 May 2020 https://www.businesstimes.com.sg/technology/facebook-names-luminaries-to-its-supreme-court-its-new-independent-content-oversight\n",
      "07 May 2020 https://www.businesstimes.com.sg/technology/facebook-names-first-members-of-oversight-board-that-can-overrule-zuckerberg\n",
      "01 May 2020 https://www.businesstimes.com.sg/technology/facebook-sees-signs-of-stability-in-ad-spending-after-covid-19-drop\n",
      "30 Apr 2020 https://www.businesstimes.com.sg/technology/facebook-surges-after-revenue-holds-up-in-midst-of-pandemic\n",
      "29 Apr 2020 https://www.businesstimes.com.sg/opinion/facebooks-reliance-deal-is-a-big-bet-on-indias-internet-future\n",
      "25 Apr 2020 https://www.businesstimes.com.sg/technology/court-approves-record-us5b-fine-of-facebook-over-privacy\n",
      "25 Apr 2020 https://www.businesstimes.com.sg/technology/facebook-takes-aim-at-zoom-with-video-chat-upgrade\n",
      "23 Apr 2020 https://www.businesstimes.com.sg/technology/mukesh-ambani-tops-jack-ma-as-asias-richest-after-deal-with-facebook\n",
      "23 Apr 2020 https://www.businesstimes.com.sg/technology/facebook-adds-location-of-posts-to-curb-state-led-manipulation\n",
      "23 Apr 2020 https://www.businesstimes.com.sg/technology/facebook-takes-us57b-stake-in-indias-jio-digital-platforms\n",
      "22 Apr 2020 https://www.businesstimes.com.sg/government-economy/facebook-stb-enterprise-singapore-offer-free-online-training-for-firms-in-virus\n",
      "22 Apr 2020 https://www.businesstimes.com.sg/technology/facebook-to-invest-us57b-in-indias-jio-platforms\n",
      "21 Apr 2020 https://www.businesstimes.com.sg/technology/facebook-3-indonesian-firms-in-early-talks-for-mobile-payment-approval-sources\n",
      "21 Apr 2020 https://www.businesstimes.com.sg/technology/facebook-launches-app-for-livestream-gaming\n",
      "21 Apr 2020 https://www.businesstimes.com.sg/technology/australia-to-force-google-facebook-to-pay-domestic-media-to-use-content\n",
      "20 Apr 2020 https://www.businesstimes.com.sg/technology/australia-to-force-google-facebook-to-pay-for-news-content\n",
      "20 Apr 2020 https://www.businesstimes.com.sg/technology/facebook-to-introduce-gaming-app-on-monday-nyt\n",
      "17 Apr 2020 https://www.businesstimes.com.sg/technology/facebook-steps-up-fight-against-fake-news-about-covid-19\n",
      "10 Apr 2020 https://www.businesstimes.com.sg/technology/facebook-must-face-renewed-privacy-lawsuit-over-user-tracking\n",
      "09 Apr 2020 https://www.businesstimes.com.sg/technology/zoom-hires-former-facebook-security-chief-to-beef-up-privacy-safety\n",
      "07 Apr 2020 https://www.businesstimes.com.sg/technology/facebook-draws-on-user-data-to-help-battle-coronavirus\n",
      "31 Mar 2020 https://www.businesstimes.com.sg/technology/facebook-aims-us100m-at-media-hit-by-the-coronavirus\n",
      "25 Mar 2020 https://www.businesstimes.com.sg/technology/facebook-revenue-slips-as-usage-leaps-during-pandemic\n",
      "24 Mar 2020 https://www.businesstimes.com.sg/technology/facebook-lowers-video-quality-in-latin-america-following-europe\n",
      "19 Mar 2020 https://www.businesstimes.com.sg/technology/facebook-scrambles-as-use-soars-in-time-of-isolation\n",
      "10 Mar 2020 https://www.businesstimes.com.sg/technology/aussie-watchdog-sues-facebook-over-cambridge-analytica-breach\n",
      "07 Mar 2020 https://www.businesstimes.com.sg/technology/facebook-closes-london-offices-until-monday-due-to-coronavirus\n",
      "06 Mar 2020 https://www.businesstimes.com.sg/technology/facebook-google-ask-san-francisco-staff-to-work-from-home-amid-covid-19\n",
      "05 Mar 2020 https://www.businesstimes.com.sg/technology/twitter-tests-vanishing-tweets-to-keep-up-with-snapchat-facebook\n",
      "04 Mar 2020 https://www.businesstimes.com.sg/banking-finance/facebook-to-scale-back-on-its-libra-plans-the-information\n",
      "28 Feb 2020 https://www.businesstimes.com.sg/technology/facebook-cancels-developer-conference-as-tech-companies-respond-to-virus\n",
      "28 Feb 2020 https://www.businesstimes.com.sg/technology/facebook-sues-analytics-firm-for-data-misuse\n",
      "19 Feb 2020 https://www.businesstimes.com.sg/technology/facebook-faces-tax-court-trial-over-ireland-offshore-deal\n",
      "17 Feb 2020 https://www.businesstimes.com.sg/technology/facebook-warns-of-risks-to-innovation-freedom-of-expression-ahead-of-eu-rules\n",
      "15 Feb 2020 https://www.businesstimes.com.sg/technology/facebook-allows-us-political-candidates-to-run-sponsored-content\n",
      "14 Feb 2020 https://www.businesstimes.com.sg/technology/facebooks-zuckerberg-wants-new-framework-for-digital-tax\n"
     ]
    },
    {
     "name": "stdout",
     "output_type": "stream",
     "text": [
      "13 Feb 2020 https://www.businesstimes.com.sg/technology/facebook-owned-whatsapp-says-it-has-2-billion-users\n",
      "08 Feb 2020 https://www.businesstimes.com.sg/technology/twitter-says-facebook-messenger-accounts-hacked\n",
      "31 Jan 2020 https://www.businesstimes.com.sg/technology/facebook-to-remove-virus-misinformation-after-who-declares-global-emergency\n",
      "31 Jan 2020 https://www.businesstimes.com.sg/technology/facebooks-revenue-rises-again-but-more-slowly-than-ever\n",
      "30 Jan 2020 https://www.businesstimes.com.sg/technology/facebook-results-beat-forecasts-but-shares-take-a-hit\n",
      "29 Jan 2020 https://www.businesstimes.com.sg/technology/facebook-rolls-out-tool-globally-to-clear-third-party-data\n",
      "28 Jan 2020 https://www.businesstimes.com.sg/technology/facebook-asks-employees-to-put-off-non-essential-travel-to-china\n",
      "23 Jan 2020 https://www.businesstimes.com.sg/banking-finance/facebook-spurred-central-banks-to-study-digital-currencies-ex-boj-exec\n",
      "22 Jan 2020 https://www.businesstimes.com.sg/banking-finance/vodafone-group-exits-facebook-led-libra-currency-group\n",
      "22 Jan 2020 https://www.businesstimes.com.sg/technology/brexit-facebook-plans-uk-growth-with-1000-hires-this-year\n",
      "18 Jan 2020 https://www.businesstimes.com.sg/technology/facebook-must-disclose-app-records-for-probe-us-judge-rules\n",
      "10 Jan 2020 https://www.businesstimes.com.sg/technology/lawmakers-facebooks-steps-to-tackle-deepfake-videos-inadequate\n",
      "08 Jan 2020 https://www.businesstimes.com.sg/consumer/facebooks-new-singapore-team-to-serve-china-advertising-business\n",
      "08 Jan 2020 https://www.businesstimes.com.sg/technology/facebook-tightening-policy-against-deepfakes\n",
      "07 Jan 2020 https://www.businesstimes.com.sg/government-economy/trump-says-zuckerberg-told-him-hes-facebooks-number-one\n",
      "28 Dec 2019 https://www.businesstimes.com.sg/banking-finance/facebooks-libra-has-failed-in-current-form-says-swiss-president\n",
      "23 Dec 2019 https://www.businesstimes.com.sg/technology/data-on-more-than-250m-us-facebook-users-exposed-online\n",
      "21 Dec 2019 https://www.businesstimes.com.sg/technology/twitter-facebook-target-state-linked-accounts-made-to-manipulate\n",
      "20 Dec 2019 https://www.businesstimes.com.sg/garage/facebook-buys-startup-to-build-live-shopping-feature-source\n",
      "20 Dec 2019 https://www.businesstimes.com.sg/technology/facebook-says-investigating-data-exposure-of-267m-users\n",
      "19 Dec 2019 https://www.businesstimes.com.sg/technology/facebook-says-it-can-still-locate-users-who-opt-out-of-tracking\n",
      "18 Dec 2019 https://www.businesstimes.com.sg/technology/facebook-says-it-can-locate-users-who-opt-out-of-tracking\n",
      "16 Dec 2019 https://www.businesstimes.com.sg/technology/thief-stole-payroll-data-of-thousands-of-facebook-employees\n",
      "13 Dec 2019 https://www.businesstimes.com.sg/technology/facebook-says-ready-for-new-california-privacy-law\n",
      "13 Dec 2019 https://www.businesstimes.com.sg/technology/australia-stops-short-of-major-clampdown-on-facebook-google\n",
      "12 Dec 2019 https://www.businesstimes.com.sg/technology/australia-to-develop-code-of-conduct-for-likes-of-facebook-and-google\n",
      "11 Dec 2019 https://www.businesstimes.com.sg/technology/facebook-firm-on-message-encryption-despite-pressure\n",
      "07 Dec 2019 https://www.businesstimes.com.sg/technology/us-regulators-find-cambridge-analytica-deceived-facebook-users\n",
      "03 Dec 2019 https://www.businesstimes.com.sg/technology/eu-to-check-how-facebook-google-use-data\n",
      "29 Nov 2019 https://www.businesstimes.com.sg/technology/facebook-instagram-resolve-outage\n",
      "{datetime.date(2020, 6, 30): -0.993, datetime.date(2020, 6, 28): -0.945, datetime.date(2020, 6, 27): 0.838, datetime.date(2020, 6, 25): -0.979, datetime.date(2020, 6, 24): 0.02, datetime.date(2020, 6, 20): 0.36, datetime.date(2020, 6, 19): 0.917, datetime.date(2020, 6, 16): -0.96, datetime.date(2020, 6, 13): 0.976, datetime.date(2020, 6, 11): -0.965, datetime.date(2020, 6, 9): -0.823, datetime.date(2020, 6, 7): -0.964, datetime.date(2020, 6, 6): -0.755, datetime.date(2020, 6, 5): -0.498, datetime.date(2020, 6, 4): -0.011, datetime.date(2020, 6, 3): -0.923, datetime.date(2020, 5, 31): -0.767, datetime.date(2020, 5, 28): 0.973, datetime.date(2020, 5, 24): 0.997, datetime.date(2020, 5, 22): 0.903, datetime.date(2020, 5, 21): 0.405, datetime.date(2020, 5, 20): -0.839, datetime.date(2020, 5, 17): 0.98, datetime.date(2020, 5, 16): 0.499, datetime.date(2020, 5, 14): -0.236, datetime.date(2020, 5, 9): 0.386, datetime.date(2020, 5, 8): 0.996, datetime.date(2020, 5, 2): 0.394, datetime.date(2020, 5, 1): 0.794, datetime.date(2020, 4, 30): 0.919, datetime.date(2020, 4, 26): 0.922, datetime.date(2020, 4, 24): 0.583, datetime.date(2020, 4, 23): 0.893, datetime.date(2020, 4, 22): 0.987, datetime.date(2020, 4, 21): 0.646, datetime.date(2020, 4, 18): 0.092, datetime.date(2020, 4, 11): 0.854, datetime.date(2020, 4, 10): 0.989, datetime.date(2020, 4, 8): 0.915, datetime.date(2020, 4, 1): 0.843, datetime.date(2020, 3, 26): 0.287, datetime.date(2020, 3, 25): 0.816, datetime.date(2020, 3, 20): 0.83, datetime.date(2020, 3, 11): 0.91, datetime.date(2020, 3, 8): -0.498, datetime.date(2020, 3, 7): -0.786, datetime.date(2020, 3, 6): 0.974, datetime.date(2020, 3, 5): 0.834, datetime.date(2020, 2, 29): -0.569, datetime.date(2020, 2, 20): 0.978, datetime.date(2020, 2, 18): 0.823, datetime.date(2020, 2, 16): 0.995, datetime.date(2020, 2, 15): 0.995, datetime.date(2020, 2, 14): 0.988, datetime.date(2020, 2, 9): 0.755, datetime.date(2020, 2, 1): 0.001, datetime.date(2020, 1, 31): 0.965, datetime.date(2020, 1, 30): 0.984, datetime.date(2020, 1, 29): -0.109, datetime.date(2020, 1, 24): 0.815, datetime.date(2020, 1, 23): 0.709, datetime.date(2020, 1, 19): 0.987, datetime.date(2020, 1, 11): -0.634, datetime.date(2020, 1, 9): 0.974, datetime.date(2020, 1, 8): -0.628, datetime.date(2019, 12, 29): 0.938, datetime.date(2019, 12, 24): 0.985, datetime.date(2019, 12, 22): 0.955, datetime.date(2019, 12, 21): 0.976, datetime.date(2019, 12, 20): 0.783, datetime.date(2019, 12, 19): 0.859, datetime.date(2019, 12, 17): -0.232, datetime.date(2019, 12, 14): 0.981, datetime.date(2019, 12, 13): 0.959, datetime.date(2019, 12, 12): -0.87, datetime.date(2019, 12, 8): 0.888, datetime.date(2019, 12, 4): 0.969, datetime.date(2019, 11, 30): 0.922}\n"
     ]
    }
   ],
   "source": [
    "from urllib.request import urlopen\n",
    "from bs4 import BeautifulSoup\n",
    "from datetime import datetime, timedelta\n",
    "import time\n",
    "import pprint\n",
    "\n",
    "date_sentiments = {}\n",
    "\n",
    "for i in range(1,11):\n",
    "    page = urlopen('https://www.businesstimes.com.sg/search/facebook?page='+str(i)).read()\n",
    "    soup = BeautifulSoup(page, features=\"html.parser\")\n",
    "    posts = soup.findAll(\"div\", {\"class\": \"media-body\"})\n",
    "    for post in posts:\n",
    "        time.sleep(1)\n",
    "        url = post.a['href']\n",
    "        date = post.time.text\n",
    "        print(date, url)\n",
    "        try:\n",
    "            link_page = urlopen(url).read()\n",
    "        except:\n",
    "            url = url[:-2]\n",
    "            link_page = urlopen(url).read()\n",
    "        link_soup = BeautifulSoup(link_page)\n",
    "        sentences = link_soup.findAll(\"p\")\n",
    "        passage = \"\"\n",
    "        for sentence in sentences:\n",
    "            passage += sentence.text\n",
    "        sentiment = sia.polarity_scores(passage)['compound']\n",
    "        date_sentiments.setdefault(date, []).append(sentiment)\n",
    "\n",
    "date_sentiment = {}\n",
    "\n",
    "for k,v in date_sentiments.items():\n",
    "    date_sentiment[datetime.strptime(k, '%d %b %Y').date() + timedelta(days=1)] = round(sum(v)/float(len(v)),3)\n",
    "\n",
    "earliest_date = min(date_sentiment.keys())\n",
    "\n",
    "print(date_sentiment)"
   ]
  },
  {
   "cell_type": "code",
   "execution_count": 17,
   "metadata": {},
   "outputs": [
    {
     "name": "stdout",
     "output_type": "stream",
     "text": [
      "18 Jan 2020 https://www.businesstimes.com.sg/technology/facebook-must-disclose-app-records-for-probe-us-judge-rules\n",
      " Hello, your email is unverified. Please confirm  \n",
      "0.9844\n",
      "10 Jan 2020 https://www.businesstimes.com.sg/technology/lawmakers-facebooks-steps-to-tackle-deepfake-videos-inadequate\n",
      " Hello, your email is unverified. Please confirm  \n",
      "-0.8632\n",
      "08 Jan 2020 https://www.businesstimes.com.sg/consumer/facebooks-new-singapore-team-to-serve-china-advertising-business\n",
      " Hello, your email is unverified. Please confirm  \n",
      "0.995\n",
      "08 Jan 2020 https://www.businesstimes.com.sg/technology/facebook-tightening-policy-against-deepfakes\n",
      " Hello, your email is unverified. Please confirm  \n",
      "0.9126\n",
      "07 Jan 2020 https://www.businesstimes.com.sg/government-economy/trump-says-zuckerberg-told-him-hes-facebooks-number-one\n",
      " Hello, your email is unverified. Please confirm  \n",
      "-0.628\n",
      "28 Dec 2019 https://www.businesstimes.com.sg/banking-finance/facebooks-libra-has-failed-in-current-form-says-swiss-president\n",
      " Hello, your email is unverified. Please confirm  \n",
      "0.8213\n",
      "23 Dec 2019 https://www.businesstimes.com.sg/technology/data-on-more-than-250m-us-facebook-users-exposed-online\n",
      " Hello, your email is unverified. Please confirm  \n",
      "0.9789\n",
      "21 Dec 2019 https://www.businesstimes.com.sg/technology/twitter-facebook-target-state-linked-accounts-made-to-manipulate\n",
      " Hello, your email is unverified. Please confirm  \n",
      "0.9176\n",
      "20 Dec 2019 https://www.businesstimes.com.sg/garage/facebook-buys-startup-to-build-live-shopping-feature-source\n",
      " Hello, your email is unverified. Please confirm  \n",
      "0.9903\n",
      "20 Dec 2019 https://www.businesstimes.com.sg/technology/facebook-says-investigating-data-exposure-of-267m-users\n",
      " Hello, your email is unverified. Please confirm  \n",
      "0.9359\n",
      "19 Dec 2019 https://www.businesstimes.com.sg/technology/facebook-says-it-can-still-locate-users-who-opt-out-of-tracking\n",
      " Hello, your email is unverified. Please confirm  \n",
      "0.7835\n",
      "18 Dec 2019 https://www.businesstimes.com.sg/technology/facebook-says-it-can-locate-users-who-opt-out-of-tracking\n",
      " Hello, your email is unverified. Please confirm  \n",
      "0.8585\n",
      "16 Dec 2019 https://www.businesstimes.com.sg/technology/thief-stole-payroll-data-of-thousands-of-facebook-employees\n",
      " Hello, your email is unverified. Please confirm  \n",
      "-0.6399\n",
      "13 Dec 2019 https://www.businesstimes.com.sg/technology/facebook-says-ready-for-new-california-privacy-law\n",
      " Hello, your email is unverified. Please confirm  \n",
      "0.9662\n",
      "13 Dec 2019 https://www.businesstimes.com.sg/technology/australia-stops-short-of-major-clampdown-on-facebook-google\n",
      " Hello, your email is unverified. Please confirm  \n",
      "0.983\n",
      "12 Dec 2019 https://www.businesstimes.com.sg/technology/australia-to-develop-code-of-conduct-for-likes-of-facebook-and-google\n",
      " Hello, your email is unverified. Please confirm  \n",
      "0.9409\n",
      "11 Dec 2019 https://www.businesstimes.com.sg/technology/facebook-firm-on-message-encryption-despite-pressure\n",
      " Hello, your email is unverified. Please confirm  \n",
      "-0.8695\n",
      "07 Dec 2019 https://www.businesstimes.com.sg/technology/us-regulators-find-cambridge-analytica-deceived-facebook-users\n",
      " Hello, your email is unverified. Please confirm  \n",
      "0.9076\n",
      "03 Dec 2019 https://www.businesstimes.com.sg/technology/eu-to-check-how-facebook-google-use-data\n",
      " Hello, your email is unverified. Please confirm  \n",
      "0.9487\n",
      "29 Nov 2019 https://www.businesstimes.com.sg/technology/facebook-instagram-resolve-outage\n",
      " Hello, your email is unverified. Please confirm  \n",
      "0.8738\n"
     ]
    }
   ],
   "source": [
    "date_sentiment"
   ]
  },
  {
   "cell_type": "code",
   "execution_count": 18,
   "metadata": {},
   "outputs": [
    {
     "ename": "NameError",
     "evalue": "name 'date_sentiment' is not defined",
     "output_type": "error",
     "traceback": [
      "\u001b[0;31m---------------------------------------------------------------------------\u001b[0m",
      "\u001b[0;31mNameError\u001b[0m                                 Traceback (most recent call last)",
      "\u001b[0;32m<ipython-input-18-9a7b63b958a7>\u001b[0m in \u001b[0;36m<module>\u001b[0;34m\u001b[0m\n\u001b[0;32m----> 1\u001b[0;31m \u001b[0mdate_sentiment\u001b[0m\u001b[0;34m\u001b[0m\u001b[0;34m\u001b[0m\u001b[0m\n\u001b[0m",
      "\u001b[0;31mNameError\u001b[0m: name 'date_sentiment' is not defined"
     ]
    }
   ],
   "source": [
    "date_sentiment"
   ]
  },
  {
   "cell_type": "markdown",
   "metadata": {},
   "source": [
    "# method 3\n",
    "from github dineshdaultani/StockPredictions\n",
    "\n",
    "need an api 'key'"
   ]
  },
  {
   "cell_type": "code",
   "execution_count": 22,
   "metadata": {},
   "outputs": [],
   "source": [
    "#!/usr/bin/env python2\n",
    "# -*- coding: utf-8 -*-\n",
    "\"\"\"\n",
    "Created on Mon Mar 20 00:10:29 2017\n",
    "@author: Dinesh\n",
    "\"\"\"\n",
    "# Below part is not required\n",
    "########## News API ########################################################\n",
    "# from newsapi import NewsAPI\n",
    "\n",
    "# key = '96af62a035db45bda517a9ca62a25ac3'\n",
    "# params = {}\n",
    "# api = NewsAPI(key)\n",
    "# sources = api.sources(params)\n",
    "# articles = api.articles(sources[0]['id'], params)\n",
    "\n",
    "################ NY Times API #############################################\n",
    "import sys, csv, json\n",
    "#reload(sys) #boting: reload has been removed since python 3.4\n",
    "#sys.setdefaultencoding('utf8') #boting: sys.setdefaultencoding is not recommended for use\n",
    "\n",
    "\n",
    "import requests\n",
    "\"\"\"\n",
    "About:\n",
    "Python wrapper for the New York Times Archive API \n",
    "https://developer.nytimes.com/article_search_v2.json\n",
    "\"\"\"\n",
    "\n",
    "class APIKeyException(Exception):\n",
    "    def __init__(self, message): self.message = message \n",
    "\n",
    "class InvalidQueryException(Exception):\n",
    "    def __init__(self, message): self.message = message \n",
    "\n",
    "class ArchiveAPI(object):\n",
    "    def __init__(self, key=None):\n",
    "        \"\"\"\n",
    "        Initializes the ArchiveAPI class. Raises an exception if no API key is given.\n",
    "        :param key: New York Times API Key\n",
    "        \"\"\"\n",
    "        self.key = key\n",
    "        self.root = 'http://api.nytimes.com/svc/archive/v1/{}/{}.json?api-key={}' \n",
    "        if not self.key:\n",
    "            nyt_dev_page = 'http://developer.nytimes.com/docs/reference/keys'\n",
    "            exception_str = 'Warning: API Key required. Please visit {}'\n",
    "            raise NoAPIKeyException(exception_str.format(nyt_dev_page))\n",
    "\n",
    "    def query(self, year=None, month=None, key=None,):\n",
    "        \"\"\"\n",
    "        Calls the archive API and returns the results as a dictionary.\n",
    "        :param key: Defaults to the API key used to initialize the ArchiveAPI class.\n",
    "        \"\"\"\n",
    "        if not key: key = self.key\n",
    "        if (year < 1882) or not (0 < month < 13):\n",
    "            # currently the Archive API only supports year >= 1882\n",
    "            exception_str = 'Invalid query: See http://developer.nytimes.com/archive_api.json'\n",
    "            raise InvalidQueryException(exception_str)\n",
    "        url = self.root.format(year, month, key)\n",
    "        r = requests.get(url)\n",
    "        return r.json()\n",
    "\n",
    "\n",
    "        \n",
    "\n",
    "    "
   ]
  },
  {
   "cell_type": "code",
   "execution_count": 26,
   "metadata": {},
   "outputs": [],
   "source": [
    "import os"
   ]
  },
  {
   "cell_type": "code",
   "execution_count": 27,
   "metadata": {},
   "outputs": [],
   "source": [
    "# Replace below key with your NYTimes Developer key\n",
    "api = ArchiveAPI('key')\n",
    "\n",
    "#years = [2016, 2015, 2014, 2013, 2012, 2011, 2010, 2009, 2008, 2007]\n",
    "years = [2016]\n",
    "months = [1, 2, 3, 4, 5, 6, 7, 8, 9, 10, 11, 12]\n",
    "\n",
    "for year in years:\n",
    "    for month in months:\n",
    "        mydict = api.query(year, month)\n",
    "        #file_str = '/Users/Dinesh/Documents/Project Stock predictions/data/nytimes/' + str(year) + '-' + '{:02}'.format(month) + '.json'\n",
    "        if not os.path.exists('./news/nytimes/'):\n",
    "            os.makedirs('./news/nytimes/')\n",
    "        file_str = './news/nytimes/' + str(year) + '-' + '{:02}'.format(month) + '.json'\n",
    "        with open(file_str, 'w') as fout:\n",
    "            json.dump(mydict, fout)\n",
    "        fout.close()"
   ]
  },
  {
   "cell_type": "code",
   "execution_count": null,
   "metadata": {},
   "outputs": [],
   "source": [
    "# method 4\n",
    "from github: "
   ]
  }
 ],
 "metadata": {
  "kernelspec": {
   "display_name": "Python 3",
   "language": "python",
   "name": "python3"
  },
  "language_info": {
   "codemirror_mode": {
    "name": "ipython",
    "version": 3
   },
   "file_extension": ".py",
   "mimetype": "text/x-python",
   "name": "python",
   "nbconvert_exporter": "python",
   "pygments_lexer": "ipython3",
   "version": "3.7.5"
  }
 },
 "nbformat": 4,
 "nbformat_minor": 2
}

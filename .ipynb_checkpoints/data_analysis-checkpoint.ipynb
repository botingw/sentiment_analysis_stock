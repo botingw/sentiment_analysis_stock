{
 "cells": [
  {
   "cell_type": "markdown",
   "metadata": {},
   "source": [
    "This script implement data analysis to see the relation between sentiment and stock price\n",
    "\n",
    "Because of computation time, it is not practical for me to evaluate all stocks on the market. Therefore, I will only select 30 to 100 stocks for analysis. The analysis should show how different feature engineering approaches can improve the performance.\n",
    "\n",
    "types of analyses:\n",
    "    1. scatter plot for sentiment score and (stock earning ratio in short/long term, stock price momentum, stock volumn, stock volatility) \n",
    "    2. correlation and cross-correlation for ... and ...\n",
    "    3. analysis result depend on filters (remove low sentiment events, remove specific medias, remove data with wrong sentiments e.g. 'TSLA umployeement rate decreases by 13%' is negative. However, it is actually a good news for TSLA)\n",
    "    4. results by market caps, time, stocks sectors\n",
    "    5. the sentiment score of article body v.s. only headline, and which one is  more predictive for some stock indicators"
   ]
  },
  {
   "cell_type": "code",
   "execution_count": null,
   "metadata": {},
   "outputs": [],
   "source": []
  }
 ],
 "metadata": {
  "kernelspec": {
   "display_name": "Python 3",
   "language": "python",
   "name": "python3"
  },
  "language_info": {
   "codemirror_mode": {
    "name": "ipython",
    "version": 3
   },
   "file_extension": ".py",
   "mimetype": "text/x-python",
   "name": "python",
   "nbconvert_exporter": "python",
   "pygments_lexer": "ipython3",
   "version": "3.7.5"
  }
 },
 "nbformat": 4,
 "nbformat_minor": 2
}
